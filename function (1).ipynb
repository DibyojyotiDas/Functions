{
  "nbformat": 4,
  "nbformat_minor": 0,
  "metadata": {
    "colab": {
      "provenance": []
    },
    "kernelspec": {
      "name": "python3",
      "display_name": "Python 3"
    },
    "language_info": {
      "name": "python"
    }
  },
  "cells": [
    {
      "cell_type": "code",
      "execution_count": null,
      "metadata": {
        "id": "uWXLx8xbBcZ1"
      },
      "outputs": [],
      "source": []
    },
    {
      "cell_type": "markdown",
      "source": [],
      "metadata": {
        "id": "O5loC2HRGRYq"
      }
    },
    {
      "cell_type": "markdown",
      "source": [
        "#1. What is the difference between a function and a method in Python?\n",
        "   ans-A function is a block of reusable code that performs a specific task. It takes input arguments, processes them, and returns a value.\n",
        "\n",
        "   A method is similar to a function in that it performs a specific task, but it is associated with an object. In other words, a method is a function that is called on a specific object. Methods are used to manipulate an object's state and behavior.\n",
        "#2. Explain the concept of function arguments and parameters in Python.\n",
        "   ans-Parameters are the variables listed in the function definition.They act as placeholders for the values that will be passed to the function.\n",
        "\n",
        "   Arguments are the actual values you pass to the function when calling it.They replace the parameters during function execution.\n",
        "#3.What are the different ways to define and call a function in Python?\n",
        "   ans-In Python, functions can be defined and called in several different ways depending on the use case.\n",
        "   Standard Function Definition and Call.\n",
        "   Function with Default Parameters.\n",
        "   Function with Keyword Arguments.\n",
        "   Function with Variable-length Arguments.\n",
        "   Lambda (Anonymous Function).\n",
        "   Function Inside a Function (Nested Function).   \n",
        "#4. What is the purpose of the `return` statement in a Python function?\n",
        "   ans-A return statement is used to end the execution of the function call and it \"returns\" the value of the expression following the return keyword to the caller. The statements after the return statements are not executed. If the return statement is without any expression, then the special value None is returned. A return statement is overall used to invoke a function so that the passed statements can be executed.\n",
        "#5.What are iterators in Python and how do they differ from iterables?\n",
        "   ans-Iterable is an object, that one can iterate over. It generates an Iterator when passed to iter() method. An iterator is an object, which is used to iterate over an iterable object using the __next__() method. Iterators have the __next__() method, which returns the next item of the object.\n",
        "#6.Explain the concept of generators in Python and how they are defined.\n",
        "   ans-A generator function is a special type of function that returns an iterator object. Instead of using return to send back a single value, generator functions use yield to produce a series of results over time. This allows the function to generate values and pause its execution after each yield, maintaining its state between iterations.\n",
        "#7.What are the advantages of using generators over regular functions?\n",
        "   ans-Generators offer advantages over regular functions through memory efficiency, lazy evaluation, and the ability to represent infinite sequences. By using the yield keyword to produce values one at a time, generators avoid storing large datasets in memory, making them suitable for large or infinite data streams and enabling more efficient data processing pipelines.  \n",
        "#8. What is a lambda function in Python and when is it typically used?\n",
        "   ans-A lambda function in Python is a small, anonymous function defined using the lambda keyword. Unlike regular functions defined with def, lambda functions are typically used for short, immediate operations and are not given a name. They can take any number of arguments but are limited to a single expression, which is implicitly returned.\n",
        "#9. Explain the purpose and usage of the `map()` function in Python.\n",
        "   ans-The map() function in Python serves the purpose of applying a specified function to each item in an iterable (such as a list, tuple, or set) and returning an iterator that yields the results. This function provides a concise and efficient way to transform data within iterables without explicit looping constructs, thereby often leading to cleaner and more readable code.\n",
        "#10.. What is the difference between `map()`, `reduce()`, and `filter()` functions in Python?\n",
        "   ans-map()-The map () function returns a map object(which is an iterator) of the results after applying the given function to each item of a given iterable (list, tuple, etc.).\n",
        "\n",
        "   reduce()-The reduce function is used to apply a particular function passed in its argument to all of the list elements mentioned in the sequence passed along.This function is defined in “functools” module.\n",
        "\n",
        "   filter()-The filter() method filters the given sequence with the help of a function that tests each element in the sequence to be true or not."
      ],
      "metadata": {
        "id": "y-A4HnKmCt2F"
      }
    },
    {
      "cell_type": "markdown",
      "source": [],
      "metadata": {
        "id": "nGlhwzuifThg"
      }
    },
    {
      "cell_type": "code",
      "source": [
        "#Write a Python function that takes a list of numbers as input and returns the sum of all even numbers in\n",
        "my_list = [1, 2, 3, 4, 5, 6]\n",
        "result = sum_even_numbers(my_list)\n",
        "print(result)"
      ],
      "metadata": {
        "colab": {
          "base_uri": "https://localhost:8080/"
        },
        "id": "3ndA9-29ko93",
        "outputId": "0375bfbf-5d85-42b4-9822-f31e9c7a5d8e"
      },
      "execution_count": 8,
      "outputs": [
        {
          "output_type": "stream",
          "name": "stdout",
          "text": [
            "12\n"
          ]
        }
      ]
    },
    {
      "cell_type": "code",
      "source": [
        "#Create a Python function that accepts a string and returns the reverse of that string\n",
        "def reverse_string(s):\n",
        "  return s[::-1]\n",
        "  text = \"hello\"\n",
        "reversed_text = reverse_string(text)\n",
        "print(reversed_text)"
      ],
      "metadata": {
        "colab": {
          "base_uri": "https://localhost:8080/"
        },
        "id": "O-SO8XUmlT73",
        "outputId": "f0d095c7-e79e-46e7-a045-0da87d80e69e"
      },
      "execution_count": 17,
      "outputs": [
        {
          "output_type": "stream",
          "name": "stdout",
          "text": [
            "olleh\n"
          ]
        }
      ]
    },
    {
      "cell_type": "code",
      "source": [
        "\"\"\" Implement a Python function that takes a list of integers and returns a new list containing the squares of\n",
        "each number.\"\"\"\n",
        "def square_numbers(numbers):\n",
        "    return [num ** 2 for num in numbers]\n",
        "    my_list = [1, 2, 3, 4, 5]\n",
        "squared_list = square_numbers(my_list)\n",
        "print(squared_list)"
      ],
      "metadata": {
        "colab": {
          "base_uri": "https://localhost:8080/"
        },
        "id": "lM0wLgtJmDqN",
        "outputId": "720648aa-4139-4b8f-b128-aa93d31cd184"
      },
      "execution_count": 21,
      "outputs": [
        {
          "output_type": "stream",
          "name": "stdout",
          "text": [
            "[1, 4, 9, 16, 25]\n"
          ]
        }
      ]
    },
    {
      "cell_type": "code",
      "source": [
        "'''Create an iterator class in Python that generates the Fibonacci sequence up to a specified number of\n",
        "terms.'''\n",
        "prime_list = primes_up_to_200()\n",
        "print(prime_list)"
      ],
      "metadata": {
        "colab": {
          "base_uri": "https://localhost:8080/"
        },
        "id": "WSvOnqWnyCps",
        "outputId": "26d4551d-b256-41b8-a154-ac9a917ce171"
      },
      "execution_count": 34,
      "outputs": [
        {
          "output_type": "stream",
          "name": "stdout",
          "text": [
            "[2, 3, 5, 7, 11, 13, 17, 19, 23, 29, 31, 37, 41, 43, 47, 53, 59, 61, 67, 71, 73, 79, 83, 89, 97, 101, 103, 107, 109, 113, 127, 131, 137, 139, 149, 151, 157, 163, 167, 173, 179, 181, 191, 193, 197, 199]\n"
          ]
        }
      ]
    },
    {
      "cell_type": "code",
      "source": [
        "# Write a generator function in Python that yields the powers of 2 up to a given exponent\n",
        "def powers_of_two_with_exponents(max_exponent):\n",
        "    for exp in range(max_exponent + 1):\n",
        "        yield (exp, 2 ** exp)\n",
        "for exp, value in powers_of_two_with_exponents(5):\n",
        "    print(f\"2^{exp} = {value}\")\n"
      ],
      "metadata": {
        "colab": {
          "base_uri": "https://localhost:8080/"
        },
        "id": "c8VnbV1wzPrn",
        "outputId": "9b6ec3ec-4e07-450d-ea5e-b0d740b48140"
      },
      "execution_count": 51,
      "outputs": [
        {
          "output_type": "stream",
          "name": "stdout",
          "text": [
            "2^0 = 1\n",
            "2^1 = 2\n",
            "2^2 = 4\n",
            "2^3 = 8\n",
            "2^4 = 16\n",
            "2^5 = 32\n"
          ]
        }
      ]
    }
  ]
}